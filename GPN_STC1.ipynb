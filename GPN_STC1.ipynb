{
  "nbformat": 4,
  "nbformat_minor": 0,
  "metadata": {
    "colab": {
      "name": "GPN-STC1.ipynb",
      "provenance": [],
      "collapsed_sections": []
    },
    "kernelspec": {
      "name": "python3",
      "display_name": "Python 3"
    },
    "language_info": {
      "name": "python"
    }
  },
  "cells": [
    {
      "cell_type": "code",
      "execution_count": null,
      "metadata": {
        "id": "58PabeMEifIp"
      },
      "outputs": [],
      "source": [
        "import numpy as np\n",
        "import pandas as pd\n",
        "import warnings\n",
        "warnings.filterwarnings(\"ignore\")"
      ]
    },
    {
      "cell_type": "code",
      "source": [
        "data = pd.read_excel('/content/ГПН-НТЦ.xlsx', parse_dates=True, sheet_name='Лист1')#, index_col='DATES')\n",
        "data.head()"
      ],
      "metadata": {
        "colab": {
          "base_uri": "https://localhost:8080/",
          "height": 221
        },
        "id": "qAjK1NIEintF",
        "outputId": "3c166496-d07f-4862-af00-71f686d47f7b"
      },
      "execution_count": null,
      "outputs": [
        {
          "output_type": "execute_result",
          "data": {
            "text/html": [
              "\n",
              "  <div id=\"df-50e018f8-eb8e-4b21-bdb9-a65f56d5bfa9\">\n",
              "    <div class=\"colab-df-container\">\n",
              "      <div>\n",
              "<style scoped>\n",
              "    .dataframe tbody tr th:only-of-type {\n",
              "        vertical-align: middle;\n",
              "    }\n",
              "\n",
              "    .dataframe tbody tr th {\n",
              "        vertical-align: top;\n",
              "    }\n",
              "\n",
              "    .dataframe thead th {\n",
              "        text-align: right;\n",
              "    }\n",
              "</style>\n",
              "<table border=\"1\" class=\"dataframe\">\n",
              "  <thead>\n",
              "    <tr style=\"text-align: right;\">\n",
              "      <th></th>\n",
              "      <th>WELL_ID</th>\n",
              "      <th>DATES</th>\n",
              "      <th>PCOL_TM</th>\n",
              "      <th>PBUF_TM</th>\n",
              "      <th>PZAT_TM</th>\n",
              "      <th>PLIN_TM</th>\n",
              "    </tr>\n",
              "  </thead>\n",
              "  <tbody>\n",
              "    <tr>\n",
              "      <th>0</th>\n",
              "      <td>110009100</td>\n",
              "      <td>2022-02-17 02:43:00</td>\n",
              "      <td>9.25</td>\n",
              "      <td>8.36</td>\n",
              "      <td>8.74</td>\n",
              "      <td>NaN</td>\n",
              "    </tr>\n",
              "    <tr>\n",
              "      <th>1</th>\n",
              "      <td>110009100</td>\n",
              "      <td>2022-02-17 02:44:00</td>\n",
              "      <td>8.43</td>\n",
              "      <td>8.38</td>\n",
              "      <td>8.74</td>\n",
              "      <td>NaN</td>\n",
              "    </tr>\n",
              "    <tr>\n",
              "      <th>2</th>\n",
              "      <td>110009100</td>\n",
              "      <td>2022-02-17 02:50:00</td>\n",
              "      <td>8.32</td>\n",
              "      <td>8.36</td>\n",
              "      <td>8.53</td>\n",
              "      <td>NaN</td>\n",
              "    </tr>\n",
              "    <tr>\n",
              "      <th>3</th>\n",
              "      <td>110009100</td>\n",
              "      <td>2022-02-17 02:55:00</td>\n",
              "      <td>8.34</td>\n",
              "      <td>8.38</td>\n",
              "      <td>8.56</td>\n",
              "      <td>NaN</td>\n",
              "    </tr>\n",
              "    <tr>\n",
              "      <th>4</th>\n",
              "      <td>110009100</td>\n",
              "      <td>2022-02-17 03:37:00</td>\n",
              "      <td>8.39</td>\n",
              "      <td>8.38</td>\n",
              "      <td>8.67</td>\n",
              "      <td>NaN</td>\n",
              "    </tr>\n",
              "  </tbody>\n",
              "</table>\n",
              "</div>\n",
              "      <button class=\"colab-df-convert\" onclick=\"convertToInteractive('df-50e018f8-eb8e-4b21-bdb9-a65f56d5bfa9')\"\n",
              "              title=\"Convert this dataframe to an interactive table.\"\n",
              "              style=\"display:none;\">\n",
              "        \n",
              "  <svg xmlns=\"http://www.w3.org/2000/svg\" height=\"24px\"viewBox=\"0 0 24 24\"\n",
              "       width=\"24px\">\n",
              "    <path d=\"M0 0h24v24H0V0z\" fill=\"none\"/>\n",
              "    <path d=\"M18.56 5.44l.94 2.06.94-2.06 2.06-.94-2.06-.94-.94-2.06-.94 2.06-2.06.94zm-11 1L8.5 8.5l.94-2.06 2.06-.94-2.06-.94L8.5 2.5l-.94 2.06-2.06.94zm10 10l.94 2.06.94-2.06 2.06-.94-2.06-.94-.94-2.06-.94 2.06-2.06.94z\"/><path d=\"M17.41 7.96l-1.37-1.37c-.4-.4-.92-.59-1.43-.59-.52 0-1.04.2-1.43.59L10.3 9.45l-7.72 7.72c-.78.78-.78 2.05 0 2.83L4 21.41c.39.39.9.59 1.41.59.51 0 1.02-.2 1.41-.59l7.78-7.78 2.81-2.81c.8-.78.8-2.07 0-2.86zM5.41 20L4 18.59l7.72-7.72 1.47 1.35L5.41 20z\"/>\n",
              "  </svg>\n",
              "      </button>\n",
              "      \n",
              "  <style>\n",
              "    .colab-df-container {\n",
              "      display:flex;\n",
              "      flex-wrap:wrap;\n",
              "      gap: 12px;\n",
              "    }\n",
              "\n",
              "    .colab-df-convert {\n",
              "      background-color: #E8F0FE;\n",
              "      border: none;\n",
              "      border-radius: 50%;\n",
              "      cursor: pointer;\n",
              "      display: none;\n",
              "      fill: #1967D2;\n",
              "      height: 32px;\n",
              "      padding: 0 0 0 0;\n",
              "      width: 32px;\n",
              "    }\n",
              "\n",
              "    .colab-df-convert:hover {\n",
              "      background-color: #E2EBFA;\n",
              "      box-shadow: 0px 1px 2px rgba(60, 64, 67, 0.3), 0px 1px 3px 1px rgba(60, 64, 67, 0.15);\n",
              "      fill: #174EA6;\n",
              "    }\n",
              "\n",
              "    [theme=dark] .colab-df-convert {\n",
              "      background-color: #3B4455;\n",
              "      fill: #D2E3FC;\n",
              "    }\n",
              "\n",
              "    [theme=dark] .colab-df-convert:hover {\n",
              "      background-color: #434B5C;\n",
              "      box-shadow: 0px 1px 3px 1px rgba(0, 0, 0, 0.15);\n",
              "      filter: drop-shadow(0px 1px 2px rgba(0, 0, 0, 0.3));\n",
              "      fill: #FFFFFF;\n",
              "    }\n",
              "  </style>\n",
              "\n",
              "      <script>\n",
              "        const buttonEl =\n",
              "          document.querySelector('#df-50e018f8-eb8e-4b21-bdb9-a65f56d5bfa9 button.colab-df-convert');\n",
              "        buttonEl.style.display =\n",
              "          google.colab.kernel.accessAllowed ? 'block' : 'none';\n",
              "\n",
              "        async function convertToInteractive(key) {\n",
              "          const element = document.querySelector('#df-50e018f8-eb8e-4b21-bdb9-a65f56d5bfa9');\n",
              "          const dataTable =\n",
              "            await google.colab.kernel.invokeFunction('convertToInteractive',\n",
              "                                                     [key], {});\n",
              "          if (!dataTable) return;\n",
              "\n",
              "          const docLinkHtml = 'Like what you see? Visit the ' +\n",
              "            '<a target=\"_blank\" href=https://colab.research.google.com/notebooks/data_table.ipynb>data table notebook</a>'\n",
              "            + ' to learn more about interactive tables.';\n",
              "          element.innerHTML = '';\n",
              "          dataTable['output_type'] = 'display_data';\n",
              "          await google.colab.output.renderOutput(dataTable, element);\n",
              "          const docLink = document.createElement('div');\n",
              "          docLink.innerHTML = docLinkHtml;\n",
              "          element.appendChild(docLink);\n",
              "        }\n",
              "      </script>\n",
              "    </div>\n",
              "  </div>\n",
              "  "
            ],
            "text/plain": [
              "     WELL_ID               DATES  PCOL_TM  PBUF_TM  PZAT_TM  PLIN_TM\n",
              "0  110009100 2022-02-17 02:43:00     9.25     8.36     8.74      NaN\n",
              "1  110009100 2022-02-17 02:44:00     8.43     8.38     8.74      NaN\n",
              "2  110009100 2022-02-17 02:50:00     8.32     8.36     8.53      NaN\n",
              "3  110009100 2022-02-17 02:55:00     8.34     8.38     8.56      NaN\n",
              "4  110009100 2022-02-17 03:37:00     8.39     8.38     8.67      NaN"
            ]
          },
          "metadata": {},
          "execution_count": 2
        }
      ]
    },
    {
      "cell_type": "code",
      "source": [
        "uniq_field = data.WELL_ID.drop_duplicates()\n",
        "numeric_col = ['PCOL_TM','PBUF_TM','PZAT_TM', 'PLIN_TM']"
      ],
      "metadata": {
        "id": "YAzDMvGqBRAx"
      },
      "execution_count": null,
      "outputs": []
    },
    {
      "cell_type": "code",
      "source": [
        "def analyze(field):\n",
        "  \"\"\"\n",
        "  field: pandas.DataFrame object: by ID\n",
        "  to do: Analyzes the field by the IQR method\n",
        "  return: pandas.DataFrame object with fillna\n",
        "  \"\"\"\n",
        "  all = {}\n",
        "  for i in numeric_col:\n",
        "    all[i] = field[i].describe()\n",
        "\n",
        "  all = pd.DataFrame(all)\n",
        "\n",
        "  iqr = [all[i]['75%'] - all[i]['25%'] for i in numeric_col]\n",
        "  iqr = pd.DataFrame(dict(zip(numeric_col, iqr)), index=['iqr'])\n",
        "  all = all.append(iqr)\n",
        "\n",
        "  max_p = [all[i]['75%'] + 1.5*all[i]['iqr'] for i in numeric_col]\n",
        "  min_p = [all[i]['25%'] - 1.5*all[i]['iqr'] for i in numeric_col]\n",
        "\n",
        "  max_p = pd.DataFrame(dict(zip(numeric_col, max_p)), index=['max_p'])\n",
        "  min_p = pd.DataFrame(dict(zip(numeric_col, min_p)), index=['min_p'])\n",
        "\n",
        "  all = all.append(max_p)\n",
        "  all = all.append(min_p)\n",
        "\n",
        "  for i in numeric_col:\n",
        "    field.loc[field[i] < all[i]['min_p'], i] = np.nan\n",
        "    field.loc[field[i] > all[i]['max_p'], i] = np.nan\n",
        "\n",
        "    field.loc[:,i].fillna(method='bfill', inplace=True)\n",
        "\n",
        "  return field"
      ],
      "metadata": {
        "id": "YoJjzF_VB14M"
      },
      "execution_count": null,
      "outputs": []
    },
    {
      "cell_type": "code",
      "source": [
        "df = pd.DataFrame()\n",
        "for i in uniq_field:\n",
        "  field = data[data.WELL_ID == i].sort_values(by=['DATES'])\n",
        "  field = analyze(field)\n",
        "  df = df.append(field)\n",
        "\n",
        "df.fillna(method='ffill', inplace=True)"
      ],
      "metadata": {
        "id": "y8-eqPxeJKE9"
      },
      "execution_count": null,
      "outputs": []
    },
    {
      "cell_type": "code",
      "source": [
        "with pd.ExcelWriter(\"new.xlsx\") as writer:\n",
        "  df.to_excel(writer, sheet_name=\"exercise1\")  "
      ],
      "metadata": {
        "id": "vJi0u_-XQ4Zf"
      },
      "execution_count": null,
      "outputs": []
    },
    {
      "cell_type": "markdown",
      "source": [
        "#plots"
      ],
      "metadata": {
        "id": "t4A6YEySSNtv"
      }
    },
    {
      "cell_type": "code",
      "source": [
        "data[data.WELL_ID == uniq_field.iloc[0]].boxplot(numeric_col)"
      ],
      "metadata": {
        "colab": {
          "base_uri": "https://localhost:8080/",
          "height": 305
        },
        "id": "l_z0A6DsO_V8",
        "outputId": "18dc884c-1ca5-4323-9172-346c432e58cf"
      },
      "execution_count": null,
      "outputs": [
        {
          "output_type": "execute_result",
          "data": {
            "text/plain": [
              "<matplotlib.axes._subplots.AxesSubplot at 0x7fa654ec4b10>"
            ]
          },
          "metadata": {},
          "execution_count": 37
        },
        {
          "output_type": "display_data",
          "data": {
            "image/png": "[encoded data removed]",
            "text/plain": [
              "<Figure size 432x288 with 1 Axes>"
            ]
          },
          "metadata": {
            "needs_background": "light"
          }
        }
      ]
    },
    {
      "cell_type": "code",
      "source": [
        "data[data.WELL_ID == uniq_field.iloc[1]].boxplot(numeric_col)"
      ],
      "metadata": {
        "colab": {
          "base_uri": "https://localhost:8080/",
          "height": 303
        },
        "id": "AvfqL-nJPbta",
        "outputId": "72d162a0-aa45-4781-88fe-c83fa955b01f"
      },
      "execution_count": null,
      "outputs": [
        {
          "output_type": "execute_result",
          "data": {
            "text/plain": [
              "<matplotlib.axes._subplots.AxesSubplot at 0x7fa654e5b210>"
            ]
          },
          "metadata": {},
          "execution_count": 36
        },
        {
          "output_type": "display_data",
          "data": {
            "image/png": "[encoded data removed]",
            "text/plain": [
              "<Figure size 432x288 with 1 Axes>"
            ]
          },
          "metadata": {
            "needs_background": "light"
          }
        }
      ]
    },
    {
      "cell_type": "code",
      "source": [
        "data[data.WELL_ID == uniq_field.iloc[2]].boxplot(numeric_col)"
      ],
      "metadata": {
        "colab": {
          "base_uri": "https://localhost:8080/",
          "height": 303
        },
        "id": "I7asEA3iPi5F",
        "outputId": "7b4553a1-0239-4221-ea35-76f57353bb3c"
      },
      "execution_count": null,
      "outputs": [
        {
          "output_type": "execute_result",
          "data": {
            "text/plain": [
              "<matplotlib.axes._subplots.AxesSubplot at 0x7fa656951650>"
            ]
          },
          "metadata": {},
          "execution_count": 38
        },
        {
          "output_type": "display_data",
          "data": {
            "image/png": "[encoded data removed]",
            "text/plain": [
              "<Figure size 432x288 with 1 Axes>"
            ]
          },
          "metadata": {
            "needs_background": "light"
          }
        }
      ]
    },
    {
      "cell_type": "code",
      "source": [
        "data[data.WELL_ID == uniq_field.iloc[3]].boxplot(numeric_col)"
      ],
      "metadata": {
        "colab": {
          "base_uri": "https://localhost:8080/",
          "height": 303
        },
        "id": "3UXVqtHtPl1a",
        "outputId": "400e7267-04de-441e-b66e-a8cb6f59e9d4"
      },
      "execution_count": null,
      "outputs": [
        {
          "output_type": "execute_result",
          "data": {
            "text/plain": [
              "<matplotlib.axes._subplots.AxesSubplot at 0x7fa656458050>"
            ]
          },
          "metadata": {},
          "execution_count": 39
        },
        {
          "output_type": "display_data",
          "data": {
            "image/png": "[encoded data removed]",
            "text/plain": [
              "<Figure size 432x288 with 1 Axes>"
            ]
          },
          "metadata": {
            "needs_background": "light"
          }
        }
      ]
    },
    {
      "cell_type": "code",
      "source": [
        "data[data.WELL_ID == uniq_field.iloc[4]].boxplot(numeric_col)"
      ],
      "metadata": {
        "colab": {
          "base_uri": "https://localhost:8080/",
          "height": 303
        },
        "id": "fY69HRmoPnIb",
        "outputId": "89b6a3fb-58b0-45d3-c535-189fe55210c9"
      },
      "execution_count": null,
      "outputs": [
        {
          "output_type": "execute_result",
          "data": {
            "text/plain": [
              "<matplotlib.axes._subplots.AxesSubplot at 0x7fa6569ed7d0>"
            ]
          },
          "metadata": {},
          "execution_count": 40
        },
        {
          "output_type": "display_data",
          "data": {
            "image/png": "[encoded data removed]",
            "text/plain": [
              "<Figure size 432x288 with 1 Axes>"
            ]
          },
          "metadata": {
            "needs_background": "light"
          }
        }
      ]
    },
    {
      "cell_type": "code",
      "source": [
        "data[data.WELL_ID == uniq_field.iloc[5]].boxplot(numeric_col)"
      ],
      "metadata": {
        "colab": {
          "base_uri": "https://localhost:8080/",
          "height": 303
        },
        "id": "DpWRcq1GPoq1",
        "outputId": "7ce8d722-475c-446c-eefb-c7c27bd486f6"
      },
      "execution_count": null,
      "outputs": [
        {
          "output_type": "execute_result",
          "data": {
            "text/plain": [
              "<matplotlib.axes._subplots.AxesSubplot at 0x7fa6569d7990>"
            ]
          },
          "metadata": {},
          "execution_count": 41
        },
        {
          "output_type": "display_data",
          "data": {
            "image/png": "[encoded data removed]",
            "text/plain": [
              "<Figure size 432x288 with 1 Axes>"
            ]
          },
          "metadata": {
            "needs_background": "light"
          }
        }
      ]
    }
  ]
}